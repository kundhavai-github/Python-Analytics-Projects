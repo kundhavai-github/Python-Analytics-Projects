{
 "cells": [
  {
   "cell_type": "code",
   "execution_count": 1,
   "id": "af5080ad",
   "metadata": {},
   "outputs": [],
   "source": [
    "import os\n",
    "import pandas as pd\n",
    "import numpy as np\n",
    "import matplotlib.pyplot as plt\n",
    "%matplotlib inline\n",
    "import warnings\n",
    "warnings.filterwarnings('ignore')"
   ]
  },
  {
   "cell_type": "code",
   "execution_count": 2,
   "id": "c7c78498",
   "metadata": {},
   "outputs": [],
   "source": [
    "import seaborn as sns"
   ]
  },
  {
   "cell_type": "markdown",
   "id": "d6c542a5",
   "metadata": {},
   "source": [
    "# Pre-requisites:"
   ]
  },
  {
   "cell_type": "code",
   "execution_count": 3,
   "id": "99000d53",
   "metadata": {},
   "outputs": [
    {
     "data": {
      "text/html": [
       "<div>\n",
       "<style scoped>\n",
       "    .dataframe tbody tr th:only-of-type {\n",
       "        vertical-align: middle;\n",
       "    }\n",
       "\n",
       "    .dataframe tbody tr th {\n",
       "        vertical-align: top;\n",
       "    }\n",
       "\n",
       "    .dataframe thead th {\n",
       "        text-align: right;\n",
       "    }\n",
       "</style>\n",
       "<table border=\"1\" class=\"dataframe\">\n",
       "  <thead>\n",
       "    <tr style=\"text-align: right;\">\n",
       "      <th></th>\n",
       "      <th>AccountId</th>\n",
       "      <th>AccountName</th>\n",
       "      <th>Region</th>\n",
       "      <th>Division</th>\n",
       "      <th>City</th>\n",
       "      <th>State</th>\n",
       "      <th>Tier</th>\n",
       "      <th>Month</th>\n",
       "      <th>Sales2015</th>\n",
       "      <th>Sales2016</th>\n",
       "      <th>Units2015</th>\n",
       "      <th>Units2016</th>\n",
       "      <th>TargetAchevied2015</th>\n",
       "      <th>TargetAchevied2016</th>\n",
       "    </tr>\n",
       "  </thead>\n",
       "  <tbody>\n",
       "    <tr>\n",
       "      <th>0</th>\n",
       "      <td>1116</td>\n",
       "      <td>Account1</td>\n",
       "      <td>West</td>\n",
       "      <td>DIAMONDBACK</td>\n",
       "      <td>PHOENIX W</td>\n",
       "      <td>AZ</td>\n",
       "      <td>Low</td>\n",
       "      <td>Aug</td>\n",
       "      <td>0.00</td>\n",
       "      <td>13208.52</td>\n",
       "      <td>0.0</td>\n",
       "      <td>4.0</td>\n",
       "      <td>0.70</td>\n",
       "      <td>1.53</td>\n",
       "    </tr>\n",
       "    <tr>\n",
       "      <th>1</th>\n",
       "      <td>1116</td>\n",
       "      <td>Account1</td>\n",
       "      <td>West</td>\n",
       "      <td>DIAMONDBACK</td>\n",
       "      <td>PHOENIX W</td>\n",
       "      <td>AZ</td>\n",
       "      <td>Low</td>\n",
       "      <td>Oct</td>\n",
       "      <td>10500.78</td>\n",
       "      <td>23114.91</td>\n",
       "      <td>3.0</td>\n",
       "      <td>7.0</td>\n",
       "      <td>0.84</td>\n",
       "      <td>1.31</td>\n",
       "    </tr>\n",
       "    <tr>\n",
       "      <th>2</th>\n",
       "      <td>2391</td>\n",
       "      <td>Account2</td>\n",
       "      <td>East</td>\n",
       "      <td>MINUTEMEN</td>\n",
       "      <td>HARTFORD</td>\n",
       "      <td>CT</td>\n",
       "      <td>Med</td>\n",
       "      <td>Jun</td>\n",
       "      <td>0.00</td>\n",
       "      <td>6627.00</td>\n",
       "      <td>0.0</td>\n",
       "      <td>3.0</td>\n",
       "      <td>1.15</td>\n",
       "      <td>1.29</td>\n",
       "    </tr>\n",
       "    <tr>\n",
       "      <th>3</th>\n",
       "      <td>2391</td>\n",
       "      <td>Account2</td>\n",
       "      <td>East</td>\n",
       "      <td>MINUTEMEN</td>\n",
       "      <td>HARTFORD</td>\n",
       "      <td>CT</td>\n",
       "      <td>Med</td>\n",
       "      <td>Mar</td>\n",
       "      <td>19881.00</td>\n",
       "      <td>13254.00</td>\n",
       "      <td>9.0</td>\n",
       "      <td>6.0</td>\n",
       "      <td>1.33</td>\n",
       "      <td>1.17</td>\n",
       "    </tr>\n",
       "    <tr>\n",
       "      <th>4</th>\n",
       "      <td>2397</td>\n",
       "      <td>Account3</td>\n",
       "      <td>East</td>\n",
       "      <td>MINUTEMEN</td>\n",
       "      <td>WORCESTER</td>\n",
       "      <td>MA</td>\n",
       "      <td>Med</td>\n",
       "      <td>Sep</td>\n",
       "      <td>3684.48</td>\n",
       "      <td>0.00</td>\n",
       "      <td>1.0</td>\n",
       "      <td>0.0</td>\n",
       "      <td>1.02</td>\n",
       "      <td>1.53</td>\n",
       "    </tr>\n",
       "  </tbody>\n",
       "</table>\n",
       "</div>"
      ],
      "text/plain": [
       "   AccountId AccountName Region     Division       City State Tier Month  \\\n",
       "0       1116    Account1   West  DIAMONDBACK  PHOENIX W    AZ  Low   Aug   \n",
       "1       1116    Account1   West  DIAMONDBACK  PHOENIX W    AZ  Low   Oct   \n",
       "2       2391    Account2   East    MINUTEMEN   HARTFORD    CT  Med   Jun   \n",
       "3       2391    Account2   East    MINUTEMEN   HARTFORD    CT  Med   Mar   \n",
       "4       2397    Account3   East    MINUTEMEN  WORCESTER    MA  Med   Sep   \n",
       "\n",
       "   Sales2015  Sales2016  Units2015  Units2016  TargetAchevied2015  \\\n",
       "0       0.00   13208.52        0.0        4.0                0.70   \n",
       "1   10500.78   23114.91        3.0        7.0                0.84   \n",
       "2       0.00    6627.00        0.0        3.0                1.15   \n",
       "3   19881.00   13254.00        9.0        6.0                1.33   \n",
       "4    3684.48       0.00        1.0        0.0                1.02   \n",
       "\n",
       "   TargetAchevied2016  \n",
       "0                1.53  \n",
       "1                1.31  \n",
       "2                1.29  \n",
       "3                1.17  \n",
       "4                1.53  "
      ]
     },
     "execution_count": 3,
     "metadata": {},
     "output_type": "execute_result"
    }
   ],
   "source": [
    "data = pd.read_csv(\"SalesData.csv\")\n",
    "data.head()"
   ]
  },
  {
   "cell_type": "code",
   "execution_count": 4,
   "id": "894f8cd1",
   "metadata": {},
   "outputs": [
    {
     "name": "stdout",
     "output_type": "stream",
     "text": [
      "<class 'pandas.core.frame.DataFrame'>\n",
      "RangeIndex: 3709 entries, 0 to 3708\n",
      "Data columns (total 14 columns):\n",
      " #   Column              Non-Null Count  Dtype  \n",
      "---  ------              --------------  -----  \n",
      " 0   AccountId           3709 non-null   int64  \n",
      " 1   AccountName         3709 non-null   object \n",
      " 2   Region              3709 non-null   object \n",
      " 3   Division            3709 non-null   object \n",
      " 4   City                3709 non-null   object \n",
      " 5   State               3709 non-null   object \n",
      " 6   Tier                3709 non-null   object \n",
      " 7   Month               3709 non-null   object \n",
      " 8   Sales2015           3709 non-null   float64\n",
      " 9   Sales2016           3709 non-null   float64\n",
      " 10  Units2015           3709 non-null   float64\n",
      " 11  Units2016           3709 non-null   float64\n",
      " 12  TargetAchevied2015  3709 non-null   float64\n",
      " 13  TargetAchevied2016  3709 non-null   float64\n",
      "dtypes: float64(6), int64(1), object(7)\n",
      "memory usage: 405.8+ KB\n"
     ]
    }
   ],
   "source": [
    "data.info()"
   ]
  },
  {
   "cell_type": "code",
   "execution_count": 6,
   "id": "502d5eb6",
   "metadata": {},
   "outputs": [
    {
     "data": {
      "text/plain": [
       "AccountId             0\n",
       "AccountName           0\n",
       "Region                0\n",
       "Division              0\n",
       "City                  0\n",
       "State                 0\n",
       "Tier                  0\n",
       "Month                 0\n",
       "Sales2015             0\n",
       "Sales2016             0\n",
       "Units2015             0\n",
       "Units2016             0\n",
       "TargetAchevied2015    0\n",
       "TargetAchevied2016    0\n",
       "dtype: int64"
      ]
     },
     "execution_count": 6,
     "metadata": {},
     "output_type": "execute_result"
    }
   ],
   "source": [
    "data.isnull().sum()"
   ]
  },
  {
   "cell_type": "markdown",
   "id": "d0dad30e",
   "metadata": {},
   "source": [
    "# 1. Compare Sales by region for 2016 with 2015 using bar chart"
   ]
  },
  {
   "cell_type": "code",
   "execution_count": 17,
   "id": "cfc3dcb1",
   "metadata": {},
   "outputs": [],
   "source": [
    "sales = data.groupby(\"Region\")[[\"Sales2015\",\"Sales2016\"]].sum()"
   ]
  },
  {
   "cell_type": "code",
   "execution_count": 18,
   "id": "b60e4d48",
   "metadata": {},
   "outputs": [
    {
     "data": {
      "text/html": [
       "<div>\n",
       "<style scoped>\n",
       "    .dataframe tbody tr th:only-of-type {\n",
       "        vertical-align: middle;\n",
       "    }\n",
       "\n",
       "    .dataframe tbody tr th {\n",
       "        vertical-align: top;\n",
       "    }\n",
       "\n",
       "    .dataframe thead th {\n",
       "        text-align: right;\n",
       "    }\n",
       "</style>\n",
       "<table border=\"1\" class=\"dataframe\">\n",
       "  <thead>\n",
       "    <tr style=\"text-align: right;\">\n",
       "      <th></th>\n",
       "      <th>Sales2015</th>\n",
       "      <th>Sales2016</th>\n",
       "    </tr>\n",
       "    <tr>\n",
       "      <th>Region</th>\n",
       "      <th></th>\n",
       "      <th></th>\n",
       "    </tr>\n",
       "  </thead>\n",
       "  <tbody>\n",
       "    <tr>\n",
       "      <th>Central</th>\n",
       "      <td>7.891729e+06</td>\n",
       "      <td>9.787809e+06</td>\n",
       "    </tr>\n",
       "    <tr>\n",
       "      <th>East</th>\n",
       "      <td>9.512916e+06</td>\n",
       "      <td>1.266723e+07</td>\n",
       "    </tr>\n",
       "    <tr>\n",
       "      <th>West</th>\n",
       "      <td>5.349745e+06</td>\n",
       "      <td>7.209689e+06</td>\n",
       "    </tr>\n",
       "  </tbody>\n",
       "</table>\n",
       "</div>"
      ],
      "text/plain": [
       "            Sales2015     Sales2016\n",
       "Region                             \n",
       "Central  7.891729e+06  9.787809e+06\n",
       "East     9.512916e+06  1.266723e+07\n",
       "West     5.349745e+06  7.209689e+06"
      ]
     },
     "execution_count": 18,
     "metadata": {},
     "output_type": "execute_result"
    }
   ],
   "source": [
    "sales"
   ]
  },
  {
   "cell_type": "code",
   "execution_count": 31,
   "id": "cfa8ff90",
   "metadata": {},
   "outputs": [
    {
     "data": {
      "image/png": "[encoded data removed]",
      "text/plain": [
       "<Figure size 1080x504 with 1 Axes>"
      ]
     },
     "metadata": {
      "needs_background": "light"
     },
     "output_type": "display_data"
    }
   ],
   "source": [
    "sales.plot(kind = \"bar\", figsize=(15,7))\n",
    "plt.grid()\n",
    "plt.title(\"Sales Comparison for 2015 and 2016\", fontsize =20, color=\"red\")\n",
    "plt.ylabel('Sales',fontsize =20)\n",
    "plt.xlabel('Region',fontsize =20)\n",
    "plt.show()"
   ]
  },
  {
   "cell_type": "raw",
   "id": "d8a1b0cd",
   "metadata": {},
   "source": [
    "Sales in the year 2016 is higher than the year 2015"
   ]
  },
  {
   "cell_type": "markdown",
   "id": "4c15f1c8",
   "metadata": {},
   "source": [
    "# 2. What are the contributing factors to the sales for each region in 2016. Visualize it using a Pie Chart."
   ]
  },
  {
   "cell_type": "code",
   "execution_count": 32,
   "id": "5a05f8cd",
   "metadata": {},
   "outputs": [],
   "source": [
    "piesales = data.groupby(\"Region\")[[\"Sales2016\"]].sum()"
   ]
  },
  {
   "cell_type": "code",
   "execution_count": 52,
   "id": "e3260159",
   "metadata": {},
   "outputs": [
    {
     "data": {
      "image/png": "[encoded data removed]",
      "text/plain": [
       "<Figure size 648x648 with 1 Axes>"
      ]
     },
     "metadata": {},
     "output_type": "display_data"
    }
   ],
   "source": [
    "piesales.plot(kind ='pie', subplots=True , legend =True , autopct=\"%0.0f%%\" ,\n",
    "                  shadow = True,figsize =(9,9) ,explode=[0.04,0.04,0.04],colors=[\"pink\",\"lightblue\",\"yellow\"])\n",
    "plt.title('Contributing factors to the sales for each region in 2016',fontsize = 20)\n",
    "plt.show()"
   ]
  },
  {
   "cell_type": "markdown",
   "id": "38588e42",
   "metadata": {},
   "source": [
    "# 3. Compare the total sales of 2015 and 2016 with respect to Region and Tiers"
   ]
  },
  {
   "cell_type": "code",
   "execution_count": 53,
   "id": "5c226668",
   "metadata": {},
   "outputs": [],
   "source": [
    "total = data.groupby([\"Region\",\"Tier\"])[[\"Sales2015\",\"Sales2016\"]].sum()"
   ]
  },
  {
   "cell_type": "code",
   "execution_count": 54,
   "id": "119e7e68",
   "metadata": {},
   "outputs": [
    {
     "data": {
      "text/html": [
       "<div>\n",
       "<style scoped>\n",
       "    .dataframe tbody tr th:only-of-type {\n",
       "        vertical-align: middle;\n",
       "    }\n",
       "\n",
       "    .dataframe tbody tr th {\n",
       "        vertical-align: top;\n",
       "    }\n",
       "\n",
       "    .dataframe thead th {\n",
       "        text-align: right;\n",
       "    }\n",
       "</style>\n",
       "<table border=\"1\" class=\"dataframe\">\n",
       "  <thead>\n",
       "    <tr style=\"text-align: right;\">\n",
       "      <th></th>\n",
       "      <th></th>\n",
       "      <th>Sales2015</th>\n",
       "      <th>Sales2016</th>\n",
       "    </tr>\n",
       "    <tr>\n",
       "      <th>Region</th>\n",
       "      <th>Tier</th>\n",
       "      <th></th>\n",
       "      <th></th>\n",
       "    </tr>\n",
       "  </thead>\n",
       "  <tbody>\n",
       "    <tr>\n",
       "      <th rowspan=\"4\" valign=\"top\">Central</th>\n",
       "      <th>High</th>\n",
       "      <td>4.798698e+06</td>\n",
       "      <td>6.026043e+06</td>\n",
       "    </tr>\n",
       "    <tr>\n",
       "      <th>Low</th>\n",
       "      <td>9.434397e+05</td>\n",
       "      <td>1.132833e+06</td>\n",
       "    </tr>\n",
       "    <tr>\n",
       "      <th>Med</th>\n",
       "      <td>2.068226e+06</td>\n",
       "      <td>2.632181e+06</td>\n",
       "    </tr>\n",
       "    <tr>\n",
       "      <th>Out</th>\n",
       "      <td>8.136489e+04</td>\n",
       "      <td>-3.248530e+03</td>\n",
       "    </tr>\n",
       "    <tr>\n",
       "      <th rowspan=\"4\" valign=\"top\">East</th>\n",
       "      <th>High</th>\n",
       "      <td>6.102946e+06</td>\n",
       "      <td>7.817151e+06</td>\n",
       "    </tr>\n",
       "    <tr>\n",
       "      <th>Low</th>\n",
       "      <td>9.016658e+05</td>\n",
       "      <td>1.144930e+06</td>\n",
       "    </tr>\n",
       "    <tr>\n",
       "      <th>Med</th>\n",
       "      <td>2.470998e+06</td>\n",
       "      <td>3.705150e+06</td>\n",
       "    </tr>\n",
       "    <tr>\n",
       "      <th>Out</th>\n",
       "      <td>3.730655e+04</td>\n",
       "      <td>0.000000e+00</td>\n",
       "    </tr>\n",
       "    <tr>\n",
       "      <th rowspan=\"4\" valign=\"top\">West</th>\n",
       "      <th>High</th>\n",
       "      <td>2.944789e+06</td>\n",
       "      <td>3.768038e+06</td>\n",
       "    </tr>\n",
       "    <tr>\n",
       "      <th>Low</th>\n",
       "      <td>6.710644e+05</td>\n",
       "      <td>1.099502e+06</td>\n",
       "    </tr>\n",
       "    <tr>\n",
       "      <th>Med</th>\n",
       "      <td>1.718476e+06</td>\n",
       "      <td>2.342149e+06</td>\n",
       "    </tr>\n",
       "    <tr>\n",
       "      <th>Out</th>\n",
       "      <td>1.541508e+04</td>\n",
       "      <td>0.000000e+00</td>\n",
       "    </tr>\n",
       "  </tbody>\n",
       "</table>\n",
       "</div>"
      ],
      "text/plain": [
       "                 Sales2015     Sales2016\n",
       "Region  Tier                            \n",
       "Central High  4.798698e+06  6.026043e+06\n",
       "        Low   9.434397e+05  1.132833e+06\n",
       "        Med   2.068226e+06  2.632181e+06\n",
       "        Out   8.136489e+04 -3.248530e+03\n",
       "East    High  6.102946e+06  7.817151e+06\n",
       "        Low   9.016658e+05  1.144930e+06\n",
       "        Med   2.470998e+06  3.705150e+06\n",
       "        Out   3.730655e+04  0.000000e+00\n",
       "West    High  2.944789e+06  3.768038e+06\n",
       "        Low   6.710644e+05  1.099502e+06\n",
       "        Med   1.718476e+06  2.342149e+06\n",
       "        Out   1.541508e+04  0.000000e+00"
      ]
     },
     "execution_count": 54,
     "metadata": {},
     "output_type": "execute_result"
    }
   ],
   "source": [
    "total"
   ]
  },
  {
   "cell_type": "code",
   "execution_count": 55,
   "id": "b3348ff3",
   "metadata": {},
   "outputs": [
    {
     "data": {
      "image/png": "[encoded data removed]",
      "text/plain": [
       "<Figure size 720x504 with 1 Axes>"
      ]
     },
     "metadata": {
      "needs_background": "light"
     },
     "output_type": "display_data"
    }
   ],
   "source": [
    "total.plot(kind = 'bar' , figsize = (10,7))\n",
    "plt.ylabel('Sales',fontsize=20)\n",
    "plt.xlabel('Region & Tier',fontsize=20)\n",
    "plt.title('Total sales of 2015 and 2016 with respect to Region and Tiers',fontsize=20)\n",
    "plt.show()"
   ]
  },
  {
   "cell_type": "markdown",
   "id": "d7b3ecdf",
   "metadata": {},
   "source": [
    "# 4. In East region, which state registered a decline in 2016 as compared to 2015?"
   ]
  },
  {
   "cell_type": "code",
   "execution_count": 56,
   "id": "3889b3ec",
   "metadata": {},
   "outputs": [],
   "source": [
    "east = data[data.Region == \"East\"]"
   ]
  },
  {
   "cell_type": "code",
   "execution_count": 63,
   "id": "a01255cf",
   "metadata": {},
   "outputs": [],
   "source": [
    "df = east.groupby(\"State\")[[\"Sales2015\", \"Sales2016\"]].sum()"
   ]
  },
  {
   "cell_type": "code",
   "execution_count": 64,
   "id": "3a1d2b9b",
   "metadata": {},
   "outputs": [
    {
     "data": {
      "image/png": "[encoded data removed]",
      "text/plain": [
       "<Figure size 1080x576 with 1 Axes>"
      ]
     },
     "metadata": {
      "needs_background": "light"
     },
     "output_type": "display_data"
    }
   ],
   "source": [
    "df.plot(kind=\"bar\",figsize = (15,8))\n",
    "plt.title(\"State Target\")\n",
    "plt.show()"
   ]
  },
  {
   "cell_type": "raw",
   "id": "1f4a74bc",
   "metadata": {},
   "source": [
    " NY state has acheived low sales in the year 2016 than the previous year."
   ]
  },
  {
   "cell_type": "markdown",
   "id": "4454ab1a",
   "metadata": {},
   "source": [
    "# 5. In all the High tier, which Division saw a decline in number of units sold in 2016 compared to 2015?"
   ]
  },
  {
   "cell_type": "code",
   "execution_count": 65,
   "id": "a6cca5e8",
   "metadata": {},
   "outputs": [],
   "source": [
    "high = data[data.Tier==\"High\"]"
   ]
  },
  {
   "cell_type": "code",
   "execution_count": 66,
   "id": "0dca0e91",
   "metadata": {},
   "outputs": [
    {
     "data": {
      "text/html": [
       "<div>\n",
       "<style scoped>\n",
       "    .dataframe tbody tr th:only-of-type {\n",
       "        vertical-align: middle;\n",
       "    }\n",
       "\n",
       "    .dataframe tbody tr th {\n",
       "        vertical-align: top;\n",
       "    }\n",
       "\n",
       "    .dataframe thead th {\n",
       "        text-align: right;\n",
       "    }\n",
       "</style>\n",
       "<table border=\"1\" class=\"dataframe\">\n",
       "  <thead>\n",
       "    <tr style=\"text-align: right;\">\n",
       "      <th></th>\n",
       "      <th>AccountId</th>\n",
       "      <th>AccountName</th>\n",
       "      <th>Region</th>\n",
       "      <th>Division</th>\n",
       "      <th>City</th>\n",
       "      <th>State</th>\n",
       "      <th>Tier</th>\n",
       "      <th>Month</th>\n",
       "      <th>Sales2015</th>\n",
       "      <th>Sales2016</th>\n",
       "      <th>Units2015</th>\n",
       "      <th>Units2016</th>\n",
       "      <th>TargetAchevied2015</th>\n",
       "      <th>TargetAchevied2016</th>\n",
       "    </tr>\n",
       "  </thead>\n",
       "  <tbody>\n",
       "    <tr>\n",
       "      <th>5</th>\n",
       "      <td>2400</td>\n",
       "      <td>Account4</td>\n",
       "      <td>East</td>\n",
       "      <td>MINUTEMEN</td>\n",
       "      <td>PORTLAND</td>\n",
       "      <td>ME</td>\n",
       "      <td>High</td>\n",
       "      <td>Jul</td>\n",
       "      <td>0.00</td>\n",
       "      <td>10525.24</td>\n",
       "      <td>0.0</td>\n",
       "      <td>4.0</td>\n",
       "      <td>1.03</td>\n",
       "      <td>1.45</td>\n",
       "    </tr>\n",
       "    <tr>\n",
       "      <th>6</th>\n",
       "      <td>2400</td>\n",
       "      <td>Account4</td>\n",
       "      <td>East</td>\n",
       "      <td>MINUTEMEN</td>\n",
       "      <td>PORTLAND</td>\n",
       "      <td>ME</td>\n",
       "      <td>High</td>\n",
       "      <td>Feb</td>\n",
       "      <td>2631.31</td>\n",
       "      <td>42812.62</td>\n",
       "      <td>1.0</td>\n",
       "      <td>17.0</td>\n",
       "      <td>1.08</td>\n",
       "      <td>0.99</td>\n",
       "    </tr>\n",
       "    <tr>\n",
       "      <th>9</th>\n",
       "      <td>2408</td>\n",
       "      <td>Account7</td>\n",
       "      <td>East</td>\n",
       "      <td>BIG APPLE</td>\n",
       "      <td>JERSEY CITY</td>\n",
       "      <td>NJ</td>\n",
       "      <td>High</td>\n",
       "      <td>Aug</td>\n",
       "      <td>0.00</td>\n",
       "      <td>10994.54</td>\n",
       "      <td>0.0</td>\n",
       "      <td>4.0</td>\n",
       "      <td>1.11</td>\n",
       "      <td>1.54</td>\n",
       "    </tr>\n",
       "    <tr>\n",
       "      <th>10</th>\n",
       "      <td>2408</td>\n",
       "      <td>Account7</td>\n",
       "      <td>East</td>\n",
       "      <td>BIG APPLE</td>\n",
       "      <td>JERSEY CITY</td>\n",
       "      <td>NJ</td>\n",
       "      <td>High</td>\n",
       "      <td>Feb</td>\n",
       "      <td>9640.17</td>\n",
       "      <td>27316.66</td>\n",
       "      <td>3.0</td>\n",
       "      <td>10.0</td>\n",
       "      <td>1.06</td>\n",
       "      <td>1.08</td>\n",
       "    </tr>\n",
       "    <tr>\n",
       "      <th>17</th>\n",
       "      <td>2426</td>\n",
       "      <td>Account13</td>\n",
       "      <td>East</td>\n",
       "      <td>BIG APPLE</td>\n",
       "      <td>PATERSON</td>\n",
       "      <td>NJ</td>\n",
       "      <td>High</td>\n",
       "      <td>Oct</td>\n",
       "      <td>0.00</td>\n",
       "      <td>3128.34</td>\n",
       "      <td>0.0</td>\n",
       "      <td>1.0</td>\n",
       "      <td>1.42</td>\n",
       "      <td>1.23</td>\n",
       "    </tr>\n",
       "  </tbody>\n",
       "</table>\n",
       "</div>"
      ],
      "text/plain": [
       "    AccountId AccountName Region   Division         City State  Tier Month  \\\n",
       "5        2400    Account4   East  MINUTEMEN     PORTLAND    ME  High   Jul   \n",
       "6        2400    Account4   East  MINUTEMEN     PORTLAND    ME  High   Feb   \n",
       "9        2408    Account7   East  BIG APPLE  JERSEY CITY    NJ  High   Aug   \n",
       "10       2408    Account7   East  BIG APPLE  JERSEY CITY    NJ  High   Feb   \n",
       "17       2426   Account13   East  BIG APPLE     PATERSON    NJ  High   Oct   \n",
       "\n",
       "    Sales2015  Sales2016  Units2015  Units2016  TargetAchevied2015  \\\n",
       "5        0.00   10525.24        0.0        4.0                1.03   \n",
       "6     2631.31   42812.62        1.0       17.0                1.08   \n",
       "9        0.00   10994.54        0.0        4.0                1.11   \n",
       "10    9640.17   27316.66        3.0       10.0                1.06   \n",
       "17       0.00    3128.34        0.0        1.0                1.42   \n",
       "\n",
       "    TargetAchevied2016  \n",
       "5                 1.45  \n",
       "6                 0.99  \n",
       "9                 1.54  \n",
       "10                1.08  \n",
       "17                1.23  "
      ]
     },
     "execution_count": 66,
     "metadata": {},
     "output_type": "execute_result"
    }
   ],
   "source": [
    "high.head()"
   ]
  },
  {
   "cell_type": "code",
   "execution_count": 69,
   "id": "770bb55a",
   "metadata": {},
   "outputs": [],
   "source": [
    "df1 = high.groupby(\"Division\")[[\"Units2015\", \"Units2016\"]].sum()"
   ]
  },
  {
   "cell_type": "code",
   "execution_count": 70,
   "id": "b178c238",
   "metadata": {},
   "outputs": [
    {
     "data": {
      "image/png": "[encoded data removed]",
      "text/plain": [
       "<Figure size 1080x576 with 1 Axes>"
      ]
     },
     "metadata": {
      "needs_background": "light"
     },
     "output_type": "display_data"
    }
   ],
   "source": [
    "df1.plot(kind=\"bar\",figsize = (15,8))\n",
    "plt.title(\"Units Sold\")\n",
    "plt.show()"
   ]
  },
  {
   "cell_type": "raw",
   "id": "cf202873",
   "metadata": {},
   "source": [
    "None of the Divison's had less units sold in 2016 than 2015"
   ]
  },
  {
   "cell_type": "markdown",
   "id": "56044204",
   "metadata": {},
   "source": [
    "# 6. Create a new column Qtr using numpy.where() or any suitable utility in the imported dataset. The Quarters are based on months and defined as -\n",
    "• Jan - Mar : Q1<br>\n",
    "• Apr - Jun : Q2<br>\n",
    "• Jul - Sep : Q3<br>\n",
    "• Oct - Dec : Q4 "
   ]
  },
  {
   "cell_type": "code",
   "execution_count": 71,
   "id": "d5f7969c",
   "metadata": {},
   "outputs": [],
   "source": [
    "def Qtr(x):\n",
    "    if x.Month in ['Jan','Feb', 'Mar' ] :\n",
    "        return 'Q1'\n",
    "    elif x.Month in ['Apr','May', 'Jun' ] :\n",
    "        return 'Q2'\n",
    "    elif x.Month in ['Jul','Aug', 'Sep' ] :\n",
    "        return 'Q3'\n",
    "    else :\n",
    "        return 'Q4'"
   ]
  },
  {
   "cell_type": "code",
   "execution_count": 72,
   "id": "3f8a2395",
   "metadata": {},
   "outputs": [
    {
     "data": {
      "text/html": [
       "<div>\n",
       "<style scoped>\n",
       "    .dataframe tbody tr th:only-of-type {\n",
       "        vertical-align: middle;\n",
       "    }\n",
       "\n",
       "    .dataframe tbody tr th {\n",
       "        vertical-align: top;\n",
       "    }\n",
       "\n",
       "    .dataframe thead th {\n",
       "        text-align: right;\n",
       "    }\n",
       "</style>\n",
       "<table border=\"1\" class=\"dataframe\">\n",
       "  <thead>\n",
       "    <tr style=\"text-align: right;\">\n",
       "      <th></th>\n",
       "      <th>AccountId</th>\n",
       "      <th>AccountName</th>\n",
       "      <th>Region</th>\n",
       "      <th>Division</th>\n",
       "      <th>City</th>\n",
       "      <th>State</th>\n",
       "      <th>Tier</th>\n",
       "      <th>Month</th>\n",
       "      <th>Sales2015</th>\n",
       "      <th>Sales2016</th>\n",
       "      <th>Units2015</th>\n",
       "      <th>Units2016</th>\n",
       "      <th>TargetAchevied2015</th>\n",
       "      <th>TargetAchevied2016</th>\n",
       "      <th>Qtr</th>\n",
       "    </tr>\n",
       "  </thead>\n",
       "  <tbody>\n",
       "    <tr>\n",
       "      <th>0</th>\n",
       "      <td>1116</td>\n",
       "      <td>Account1</td>\n",
       "      <td>West</td>\n",
       "      <td>DIAMONDBACK</td>\n",
       "      <td>PHOENIX W</td>\n",
       "      <td>AZ</td>\n",
       "      <td>Low</td>\n",
       "      <td>Aug</td>\n",
       "      <td>0.00</td>\n",
       "      <td>13208.52</td>\n",
       "      <td>0.0</td>\n",
       "      <td>4.0</td>\n",
       "      <td>0.70</td>\n",
       "      <td>1.53</td>\n",
       "      <td>Q3</td>\n",
       "    </tr>\n",
       "    <tr>\n",
       "      <th>1</th>\n",
       "      <td>1116</td>\n",
       "      <td>Account1</td>\n",
       "      <td>West</td>\n",
       "      <td>DIAMONDBACK</td>\n",
       "      <td>PHOENIX W</td>\n",
       "      <td>AZ</td>\n",
       "      <td>Low</td>\n",
       "      <td>Oct</td>\n",
       "      <td>10500.78</td>\n",
       "      <td>23114.91</td>\n",
       "      <td>3.0</td>\n",
       "      <td>7.0</td>\n",
       "      <td>0.84</td>\n",
       "      <td>1.31</td>\n",
       "      <td>Q4</td>\n",
       "    </tr>\n",
       "    <tr>\n",
       "      <th>2</th>\n",
       "      <td>2391</td>\n",
       "      <td>Account2</td>\n",
       "      <td>East</td>\n",
       "      <td>MINUTEMEN</td>\n",
       "      <td>HARTFORD</td>\n",
       "      <td>CT</td>\n",
       "      <td>Med</td>\n",
       "      <td>Jun</td>\n",
       "      <td>0.00</td>\n",
       "      <td>6627.00</td>\n",
       "      <td>0.0</td>\n",
       "      <td>3.0</td>\n",
       "      <td>1.15</td>\n",
       "      <td>1.29</td>\n",
       "      <td>Q2</td>\n",
       "    </tr>\n",
       "    <tr>\n",
       "      <th>3</th>\n",
       "      <td>2391</td>\n",
       "      <td>Account2</td>\n",
       "      <td>East</td>\n",
       "      <td>MINUTEMEN</td>\n",
       "      <td>HARTFORD</td>\n",
       "      <td>CT</td>\n",
       "      <td>Med</td>\n",
       "      <td>Mar</td>\n",
       "      <td>19881.00</td>\n",
       "      <td>13254.00</td>\n",
       "      <td>9.0</td>\n",
       "      <td>6.0</td>\n",
       "      <td>1.33</td>\n",
       "      <td>1.17</td>\n",
       "      <td>Q1</td>\n",
       "    </tr>\n",
       "    <tr>\n",
       "      <th>4</th>\n",
       "      <td>2397</td>\n",
       "      <td>Account3</td>\n",
       "      <td>East</td>\n",
       "      <td>MINUTEMEN</td>\n",
       "      <td>WORCESTER</td>\n",
       "      <td>MA</td>\n",
       "      <td>Med</td>\n",
       "      <td>Sep</td>\n",
       "      <td>3684.48</td>\n",
       "      <td>0.00</td>\n",
       "      <td>1.0</td>\n",
       "      <td>0.0</td>\n",
       "      <td>1.02</td>\n",
       "      <td>1.53</td>\n",
       "      <td>Q3</td>\n",
       "    </tr>\n",
       "  </tbody>\n",
       "</table>\n",
       "</div>"
      ],
      "text/plain": [
       "   AccountId AccountName Region     Division       City State Tier Month  \\\n",
       "0       1116    Account1   West  DIAMONDBACK  PHOENIX W    AZ  Low   Aug   \n",
       "1       1116    Account1   West  DIAMONDBACK  PHOENIX W    AZ  Low   Oct   \n",
       "2       2391    Account2   East    MINUTEMEN   HARTFORD    CT  Med   Jun   \n",
       "3       2391    Account2   East    MINUTEMEN   HARTFORD    CT  Med   Mar   \n",
       "4       2397    Account3   East    MINUTEMEN  WORCESTER    MA  Med   Sep   \n",
       "\n",
       "   Sales2015  Sales2016  Units2015  Units2016  TargetAchevied2015  \\\n",
       "0       0.00   13208.52        0.0        4.0                0.70   \n",
       "1   10500.78   23114.91        3.0        7.0                0.84   \n",
       "2       0.00    6627.00        0.0        3.0                1.15   \n",
       "3   19881.00   13254.00        9.0        6.0                1.33   \n",
       "4    3684.48       0.00        1.0        0.0                1.02   \n",
       "\n",
       "   TargetAchevied2016 Qtr  \n",
       "0                1.53  Q3  \n",
       "1                1.31  Q4  \n",
       "2                1.29  Q2  \n",
       "3                1.17  Q1  \n",
       "4                1.53  Q3  "
      ]
     },
     "execution_count": 72,
     "metadata": {},
     "output_type": "execute_result"
    }
   ],
   "source": [
    "data['Qtr']= data.apply(Qtr, axis=1)\n",
    "data.head()"
   ]
  },
  {
   "cell_type": "markdown",
   "id": "5f2760c0",
   "metadata": {},
   "source": [
    "# 7.Compare Qtr wise sales in 2015 and 2016 in a bar plot"
   ]
  },
  {
   "cell_type": "code",
   "execution_count": 74,
   "id": "6f715c99",
   "metadata": {
    "scrolled": true
   },
   "outputs": [],
   "source": [
    "qtr_data = data.groupby(\"Qtr\")[[\"Sales2015\",\"Sales2016\"]].sum()"
   ]
  },
  {
   "cell_type": "code",
   "execution_count": 78,
   "id": "5b2c73f5",
   "metadata": {},
   "outputs": [
    {
     "data": {
      "image/png": "[encoded data removed]",
      "text/plain": [
       "<Figure size 1080x576 with 1 Axes>"
      ]
     },
     "metadata": {
      "needs_background": "light"
     },
     "output_type": "display_data"
    }
   ],
   "source": [
    "qtr_data.plot(kind=\"bar\",figsize = (15,8))\n",
    "plt.title(\"Quarter wise sales\",fontsize=20)\n",
    "plt.show()"
   ]
  },
  {
   "cell_type": "markdown",
   "id": "bb5022dc",
   "metadata": {},
   "source": [
    "# 8. Determine the composition of Qtr wise sales in and 2016 with regards to all the Tiers in a pie chart."
   ]
  },
  {
   "cell_type": "code",
   "execution_count": 82,
   "id": "45d740a0",
   "metadata": {},
   "outputs": [
    {
     "data": {
      "text/html": [
       "<div>\n",
       "<style scoped>\n",
       "    .dataframe tbody tr th:only-of-type {\n",
       "        vertical-align: middle;\n",
       "    }\n",
       "\n",
       "    .dataframe tbody tr th {\n",
       "        vertical-align: top;\n",
       "    }\n",
       "\n",
       "    .dataframe thead th {\n",
       "        text-align: right;\n",
       "    }\n",
       "</style>\n",
       "<table border=\"1\" class=\"dataframe\">\n",
       "  <thead>\n",
       "    <tr style=\"text-align: right;\">\n",
       "      <th>Qtr</th>\n",
       "      <th>Q1</th>\n",
       "      <th>Q2</th>\n",
       "      <th>Q3</th>\n",
       "      <th>Q4</th>\n",
       "    </tr>\n",
       "    <tr>\n",
       "      <th>Tier</th>\n",
       "      <th></th>\n",
       "      <th></th>\n",
       "      <th></th>\n",
       "      <th></th>\n",
       "    </tr>\n",
       "  </thead>\n",
       "  <tbody>\n",
       "    <tr>\n",
       "      <th>High</th>\n",
       "      <td>3867718.595</td>\n",
       "      <td>4.130953e+06</td>\n",
       "      <td>4.872559e+06</td>\n",
       "      <td>4.740002e+06</td>\n",
       "    </tr>\n",
       "    <tr>\n",
       "      <th>Low</th>\n",
       "      <td>948832.770</td>\n",
       "      <td>8.905948e+05</td>\n",
       "      <td>7.951777e+05</td>\n",
       "      <td>7.426594e+05</td>\n",
       "    </tr>\n",
       "    <tr>\n",
       "      <th>Med</th>\n",
       "      <td>2181401.879</td>\n",
       "      <td>2.215814e+06</td>\n",
       "      <td>2.197058e+06</td>\n",
       "      <td>2.085207e+06</td>\n",
       "    </tr>\n",
       "    <tr>\n",
       "      <th>Out</th>\n",
       "      <td>0.000</td>\n",
       "      <td>0.000000e+00</td>\n",
       "      <td>3.248530e+03</td>\n",
       "      <td>0.000000e+00</td>\n",
       "    </tr>\n",
       "  </tbody>\n",
       "</table>\n",
       "</div>"
      ],
      "text/plain": [
       "Qtr            Q1            Q2            Q3            Q4\n",
       "Tier                                                       \n",
       "High  3867718.595  4.130953e+06  4.872559e+06  4.740002e+06\n",
       "Low    948832.770  8.905948e+05  7.951777e+05  7.426594e+05\n",
       "Med   2181401.879  2.215814e+06  2.197058e+06  2.085207e+06\n",
       "Out         0.000  0.000000e+00  3.248530e+03  0.000000e+00"
      ]
     },
     "execution_count": 82,
     "metadata": {},
     "output_type": "execute_result"
    }
   ],
   "source": [
    "qtr = abs(pd.pivot_table(data , index='Tier' , columns= 'Qtr' , values= 'Sales2016' , aggfunc='sum'))\n",
    "qtr"
   ]
  },
  {
   "cell_type": "code",
   "execution_count": 83,
   "id": "cc7f621b",
   "metadata": {},
   "outputs": [
    {
     "data": {
      "image/png": "[encoded data removed]",
      "text/plain": [
       "<Figure size 720x720 with 4 Axes>"
      ]
     },
     "metadata": {},
     "output_type": "display_data"
    }
   ],
   "source": [
    "qtr.plot(kind='pie', subplots = True ,autopct=\"%1.0f%%\" , figsize = (10,10), layout=(2, 2))\n",
    "plt.show()"
   ]
  }
 ],
 "metadata": {
  "kernelspec": {
   "display_name": "Python 3 (ipykernel)",
   "language": "python",
   "name": "python3"
  },
  "language_info": {
   "codemirror_mode": {
    "name": "ipython",
    "version": 3
   },
   "file_extension": ".py",
   "mimetype": "text/x-python",
   "name": "python",
   "nbconvert_exporter": "python",
   "pygments_lexer": "ipython3",
   "version": "3.10.0"
  }
 },
 "nbformat": 4,
 "nbformat_minor": 5
}
